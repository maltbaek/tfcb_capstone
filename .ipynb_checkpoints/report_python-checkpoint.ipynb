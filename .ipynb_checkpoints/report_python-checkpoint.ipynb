{
 "cells": [
  {
   "cell_type": "markdown",
   "metadata": {},
   "source": [
    "# Capstone Project, Question 1\n",
    "\n",
    "Are all staining markers well accounted for across the dataset? As in the paper, clean up the data by removing antibody markers (out of the initial 38) with more than 40% missing values as well as tumor samples with more than 50% missing values.\n",
    "\n",
    "\n",
    "\n",
    "Please post questions to the `lectures-homework` slack channel. Phil is also available via email (pbradley@fredhutch.org)."
   ]
  },
  {
   "cell_type": "code",
   "execution_count": 2,
   "metadata": {},
   "outputs": [
    {
     "data": {
      "text/plain": [
       "<bound method NDFrame.head of     CK5   CK7  CK17  CK18  CK19 CK20 Vim  MUC1 MUC2 MUC5AC  ... CD146  \\\n",
       "0     0  92.5    20     ?  92.5    0   5    20    0     80  ...     0   \n",
       "1     0    20     0  92.5    50    0   0     ?    0      0  ...     ?   \n",
       "2     0  92.5     0  92.5  92.5   20   0    40    0     80  ...     0   \n",
       "3     ?    70     ?  92.5    85    5  15    80    0     40  ...     ?   \n",
       "4     0     0     ?  92.5    40    0   ?     0    0      0  ...     ?   \n",
       "..   ..   ...   ...   ...   ...  ...  ..   ...  ...    ...  ...   ...   \n",
       "434   0    80    60     ?  92.5   15   0    70    5     40  ...    40   \n",
       "435   0    60    30  92.5     ?    0   0    70    0     40  ...    70   \n",
       "436  50  92.5  92.5  92.5  92.5    0  30  92.5    0     15  ...     ?   \n",
       "437   0  92.5     0     ?  92.5    0   0    60    0      0  ...     0   \n",
       "438   0  92.5     ?  92.5     0    ?   0     5    0      5  ...     ?   \n",
       "\n",
       "    CD146_nucl Calretinin HBME1 Mesothelin Hepatocyte Glypican_3 NGFR_str  \\\n",
       "0           90          0  92.5         30          ?          ?        5   \n",
       "1            ?          0     ?          ?          ?          ?        ?   \n",
       "2            0          ?     ?          ?          ?          ?       30   \n",
       "3            ?          ?     ?          ?          ?          ?        ?   \n",
       "4            ?          ?     ?          ?         30       92.5       20   \n",
       "..         ...        ...   ...        ...        ...        ...      ...   \n",
       "434          0          0     0          0          ?          ?       25   \n",
       "435         10          ?     ?          ?          ?          ?        0   \n",
       "436          ?         30     5          0          0          ?        ?   \n",
       "437          2         20    20       92.5          ?          ?        5   \n",
       "438          ?          ?     ?          ?       92.5          5        ?   \n",
       "\n",
       "                                     pad                              Class  \n",
       "0                      'Pancreas Ac|397'                      'Pancreas Ac'  \n",
       "1            'Hepatocellular Cancer|190'            'Hepatocellular Cancer'  \n",
       "2                       'Pancreas Ac|25'                      'Pancreas Ac'  \n",
       "3                   'Gallbladder Ac|108'                   'Gallbladder Ac'  \n",
       "4            'Hepatocellular Cancer|336'            'Hepatocellular Cancer'  \n",
       "..                                   ...                                ...  \n",
       "434            'Distal Bile Duct Ac|391'              'Distal Bile Duct Ac'  \n",
       "435                  'Perihilary Ac|129'                    'Perihilary Ac'  \n",
       "436                    'Pancreas Ac|355'                      'Pancreas Ac'  \n",
       "437  'Intrahepatic Cholangiocarcinoma|4'  'Intrahepatic Cholangiocarcinoma'  \n",
       "438          'Hepatocellular Cancer|279'            'Hepatocellular Cancer'  \n",
       "\n",
       "[439 rows x 40 columns]>"
      ]
     },
     "execution_count": 2,
     "metadata": {},
     "output_type": "execute_result"
    }
   ],
   "source": [
    "import pandas as pd\n",
    "\n",
    "staining = pd.read_csv('data/pcbil_raw.csv')\n",
    "\n",
    "staining.head"
   ]
  }
 ],
 "metadata": {
  "kernelspec": {
   "display_name": "Python 3",
   "language": "python",
   "name": "python3"
  },
  "language_info": {
   "codemirror_mode": {
    "name": "ipython",
    "version": 3
   },
   "file_extension": ".py",
   "mimetype": "text/x-python",
   "name": "python",
   "nbconvert_exporter": "python",
   "pygments_lexer": "ipython3",
   "version": "3.8.3"
  }
 },
 "nbformat": 4,
 "nbformat_minor": 4
}
