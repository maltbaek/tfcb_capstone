{
 "cells": [
  {
   "cell_type": "markdown",
   "metadata": {},
   "source": [
    "# Capstone Project, Question 1\n",
    "\n",
    "Are all staining markers well accounted for across the dataset? As in the paper, clean up the data by removing antibody markers (out of the initial 38) with more than 40% missing values as well as tumor samples with more than 50% missing values.\n",
    "\n",
    "\n",
    "\n",
    "Please post questions to the `lectures-homework` slack channel. Phil is also available via email (pbradley@fredhutch.org)."
   ]
  },
  {
   "cell_type": "code",
   "execution_count": 3,
   "metadata": {},
   "outputs": [
    {
     "data": {
      "text/plain": [
       "<bound method NDFrame.head of            ck5   ck7       ck17  ck18  ck19       ck20   vim  muc1  muc2  \\\n",
       "0     0.000000  92.5  20.000000  92.5  92.5   0.000000   5.0  20.0   0.0   \n",
       "1     0.000000  20.0   0.000000  92.5  50.0   0.000000   0.0   0.0   0.0   \n",
       "2     0.000000  92.5   0.000000  92.5  92.5  20.000000   0.0  40.0   0.0   \n",
       "3     0.714286  70.0  18.333333  92.5  85.0   5.000000  15.0  80.0   0.0   \n",
       "4     0.000000   0.0   0.000000  92.5  40.0   0.000000   0.0   0.0   0.0   \n",
       "..         ...   ...        ...   ...   ...        ...   ...   ...   ...   \n",
       "404   0.000000  80.0  60.000000  85.0  92.5  15.000000   0.0  70.0   5.0   \n",
       "405   0.000000  60.0  30.000000  92.5  92.5   0.000000   0.0  70.0   0.0   \n",
       "406  50.000000  92.5  92.500000  92.5  92.5   0.000000  30.0  92.5   0.0   \n",
       "407   0.000000  92.5   0.000000  92.5  92.5   0.000000   0.0  60.0   0.0   \n",
       "408   0.000000  92.5  24.375000  92.5   0.0   2.222222   0.0   5.0   0.0   \n",
       "\n",
       "     muc5ac  ...  cdx2   p53       p63  ki67      smad4  chra     cd56  \\\n",
       "0      80.0  ...  20.0  10.0  0.000000  20.0   0.000000   0.0   0.0000   \n",
       "1       0.0  ...   0.0   0.0  0.000000  30.0  90.000000   0.0   0.0000   \n",
       "2      80.0  ...  70.0  80.0  0.111111  40.0  70.000000   2.5   0.0000   \n",
       "3      40.0  ...  40.0  95.0  2.142857  30.0  42.500000   0.0  10.0000   \n",
       "4       0.0  ...   0.0   0.0  0.000000  10.0  58.778626   0.0  11.5625   \n",
       "..      ...  ...   ...   ...       ...   ...        ...   ...      ...   \n",
       "404    40.0  ...  25.0   0.0  0.000000  40.0  90.000000   5.0   0.0000   \n",
       "405    40.0  ...   0.0   0.0  0.000000  30.0  95.000000   0.0   0.0000   \n",
       "406    15.0  ...   0.0   0.0  5.000000  80.0  85.000000   0.0   0.0000   \n",
       "407     0.0  ...  60.0   0.0  0.000000  40.0  95.000000   0.0   0.0000   \n",
       "408     5.0  ...   0.0   0.0  0.000000  10.0  53.571429   0.0   0.0000   \n",
       "\n",
       "         cd10                         clin_diag  \\\n",
       "0    0.000000  Ductal pancreatic adenocarcinoma   \n",
       "1    0.000000          Hepatocellular carcinoma   \n",
       "2    0.000000  Ductal pancreatic adenocarcinoma   \n",
       "3    9.166667                Gallbladder cancer   \n",
       "4    0.000000          Hepatocellular carcinoma   \n",
       "..        ...                               ...   \n",
       "404  5.000000           Distal bile duct cancer   \n",
       "405  0.000000      Perihilar cholangiocarcinoma   \n",
       "406  0.000000  Ductal pancreatic adenocarcinoma   \n",
       "407  0.000000   Intrahepatic cholangiocarcinoma   \n",
       "408  0.000000          Hepatocellular carcinoma   \n",
       "\n",
       "                                   pad  \n",
       "0                      Pancreas Ac|397  \n",
       "1            Hepatocellular Cancer|190  \n",
       "2                       Pancreas Ac|25  \n",
       "3                   Gallbladder Ac|108  \n",
       "4            Hepatocellular Cancer|336  \n",
       "..                                 ...  \n",
       "404            Distal Bile Duct Ac|391  \n",
       "405                  Perihilary Ac|129  \n",
       "406                    Pancreas Ac|355  \n",
       "407  Intrahepatic Cholangiocarcinoma|4  \n",
       "408          Hepatocellular Cancer|279  \n",
       "\n",
       "[409 rows x 29 columns]>"
      ]
     },
     "execution_count": 3,
     "metadata": {},
     "output_type": "execute_result"
    }
   ],
   "source": [
    "import pandas as pd\n",
    "\n",
    "staining = pd.read_csv('data/pcbilDataImputed.csv')\n",
    "\n",
    "staining.head"
   ]
  },
  {
   "cell_type": "code",
   "execution_count": null,
   "metadata": {},
   "outputs": [],
   "source": []
  }
 ],
 "metadata": {
  "kernelspec": {
   "display_name": "Python 3",
   "language": "python",
   "name": "python3"
  },
  "language_info": {
   "codemirror_mode": {
    "name": "ipython",
    "version": 3
   },
   "file_extension": ".py",
   "mimetype": "text/x-python",
   "name": "python",
   "nbconvert_exporter": "python",
   "pygments_lexer": "ipython3",
   "version": "3.8.3"
  }
 },
 "nbformat": 4,
 "nbformat_minor": 4
}
